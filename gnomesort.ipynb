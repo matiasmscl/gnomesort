{
 "cells": [
  {
   "cell_type": "code",
   "execution_count": 1,
   "id": "102198f6-b50f-423e-9f23-becdf57014a0",
   "metadata": {},
   "outputs": [
    {
     "name": "stdout",
     "output_type": "stream",
     "text": [
      "[985, 36, 160, 526, 797, 848, 971, 570, 329, 356, 77, 386, 3, 713, 927, 142, 565, 428, 697, 222, 390, 683, 976, 775, 391, 620, 529, 916, 646, 717, 709, 524, 92, 580, 12, 80, 600, 342, 49, 88, 866, 773, 437, 808, 579, 435, 937, 343, 119, 200, 767, 857, 732, 676, 448, 739, 202, 432, 148, 763, 445, 939, 65, 498, 67, 388, 517, 653, 988, 18, 360, 596, 364, 203, 578, 446, 244, 994, 74, 666, 544, 97, 269, 792, 911, 743, 120, 128, 885, 416, 699, 726, 259, 91, 606, 255, 727, 66, 137, 549]\n",
      "100\n"
     ]
    }
   ],
   "source": [
    "import random\n",
    "n = random.sample(range(0, 1000), 100)\n",
    "print(n)\n",
    "print(len(n))"
   ]
  },
  {
   "cell_type": "code",
   "execution_count": 2,
   "id": "39323b70-55a5-4f5f-a1e5-3f660ed3a206",
   "metadata": {},
   "outputs": [],
   "source": [
    "def gnomesort(L):\n",
    "    Aux=L[:]\n",
    "    for k in range(len(L)-1):\n",
    "        if L[k]>L[k+1]:\n",
    "            Aux[k]=L[k+1]\n",
    "            Aux[k+1]=L[k]\n",
    "            return(gnomesort(Aux))\n",
    "    return(L)"
   ]
  },
  {
   "cell_type": "code",
   "execution_count": 3,
   "id": "3a060013-42c3-4e19-9c6d-fe56ba153ab0",
   "metadata": {},
   "outputs": [
    {
     "name": "stdout",
     "output_type": "stream",
     "text": [
      "[3, 12, 18, 36, 49, 65, 66, 67, 74, 77, 80, 88, 91, 92, 97, 119, 120, 128, 137, 142, 148, 160, 200, 202, 203, 222, 244, 255, 259, 269, 329, 342, 343, 356, 360, 364, 386, 388, 390, 391, 416, 428, 432, 435, 437, 445, 446, 448, 498, 517, 524, 526, 529, 544, 549, 565, 570, 578, 579, 580, 596, 600, 606, 620, 646, 653, 666, 676, 683, 697, 699, 709, 713, 717, 726, 727, 732, 739, 743, 763, 767, 773, 775, 792, 797, 808, 848, 857, 866, 885, 911, 916, 927, 937, 939, 971, 976, 985, 988, 994]\n",
      "100\n"
     ]
    }
   ],
   "source": [
    "n2=gnomesort(n)\n",
    "print(n2)\n",
    "print(len(n2))"
   ]
  },
  {
   "cell_type": "code",
   "execution_count": null,
   "id": "e3166aa7-770f-439c-9e44-c33d6577ed89",
   "metadata": {},
   "outputs": [],
   "source": []
  }
 ],
 "metadata": {
  "kernelspec": {
   "display_name": "Python 3 (ipykernel)",
   "language": "python",
   "name": "python3"
  },
  "language_info": {
   "codemirror_mode": {
    "name": "ipython",
    "version": 3
   },
   "file_extension": ".py",
   "mimetype": "text/x-python",
   "name": "python",
   "nbconvert_exporter": "python",
   "pygments_lexer": "ipython3",
   "version": "3.9.7"
  }
 },
 "nbformat": 4,
 "nbformat_minor": 5
}
